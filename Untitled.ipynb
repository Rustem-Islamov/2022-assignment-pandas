{
 "cells": [
  {
   "cell_type": "code",
   "execution_count": 1,
   "id": "practical-fabric",
   "metadata": {},
   "outputs": [
    {
     "name": "stdout",
     "output_type": "stream",
     "text": [
      "============================= test session starts =============================\n",
      "platform win32 -- Python 3.8.3, pytest-6.2.2, py-1.10.0, pluggy-0.13.1\n",
      "rootdir: C:\\Users\\ruste\\Documents\\2022-assignment-pandas\n",
      "collected 5 items\n",
      "\n",
      "test_pandas_questions.py .....                                           [100%]\n",
      "\n",
      "============================== warnings summary ===============================\n",
      "..\\..\\anaconda3\\lib\\site-packages\\pyreadline\\py3k_compat.py:8\n",
      "  C:\\Users\\ruste\\anaconda3\\lib\\site-packages\\pyreadline\\py3k_compat.py:8: DeprecationWarning: Using or importing the ABCs from 'collections' instead of from 'collections.abc' is deprecated since Python 3.3, and in 3.9 it will stop working\n",
      "    return isinstance(x, collections.Callable)\n",
      "\n",
      "-- Docs: https://docs.pytest.org/en/stable/warnings.html\n",
      "======================== 5 passed, 1 warning in 4.65s =========================\n"
     ]
    }
   ],
   "source": [
    "!pytest"
   ]
  },
  {
   "cell_type": "code",
   "execution_count": 1,
   "id": "instructional-toronto",
   "metadata": {},
   "outputs": [],
   "source": [
    "!flake8 pandas_questions.py"
   ]
  },
  {
   "cell_type": "code",
   "execution_count": 2,
   "id": "minute-walker",
   "metadata": {},
   "outputs": [],
   "source": [
    "import pandas as pd"
   ]
  },
  {
   "cell_type": "code",
   "execution_count": 3,
   "id": "forbidden-consultancy",
   "metadata": {},
   "outputs": [],
   "source": [
    "from pandas_questions import merge_regions_and_departments\n",
    "from pandas_questions import merge_referendum_and_areas\n",
    "from pandas_questions import compute_referendum_result_by_regions"
   ]
  },
  {
   "cell_type": "code",
   "execution_count": 4,
   "id": "experienced-physiology",
   "metadata": {},
   "outputs": [],
   "source": [
    "referendum = pd.read_csv('data/referendum.csv', sep=';')\n",
    "regions = pd.read_csv('data/regions.csv')\n",
    "departments = pd.read_csv('data/departments.csv')"
   ]
  },
  {
   "cell_type": "code",
   "execution_count": 5,
   "id": "split-discretion",
   "metadata": {},
   "outputs": [],
   "source": [
    "rad = merge_regions_and_departments(regions, departments)\n",
    "raa = merge_referendum_and_areas(referendum, rad)\n",
    "rrbb = compute_referendum_result_by_regions(raa)"
   ]
  },
  {
   "cell_type": "code",
   "execution_count": null,
   "id": "precious-decrease",
   "metadata": {},
   "outputs": [],
   "source": []
  }
 ],
 "metadata": {
  "kernelspec": {
   "display_name": "Python 3",
   "language": "python",
   "name": "python3"
  },
  "language_info": {
   "codemirror_mode": {
    "name": "ipython",
    "version": 3
   },
   "file_extension": ".py",
   "mimetype": "text/x-python",
   "name": "python",
   "nbconvert_exporter": "python",
   "pygments_lexer": "ipython3",
   "version": "3.8.3"
  }
 },
 "nbformat": 4,
 "nbformat_minor": 5
}
